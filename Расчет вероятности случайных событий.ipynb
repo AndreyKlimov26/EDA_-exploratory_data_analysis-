{
  "nbformat": 4,
  "nbformat_minor": 0,
  "metadata": {
    "colab": {
      "provenance": []
    },
    "kernelspec": {
      "name": "python3",
      "display_name": "Python 3"
    },
    "language_info": {
      "name": "python"
    }
  },
  "cells": [
    {
      "cell_type": "markdown",
      "source": [
        "Урок 1. Расчет вероятности случайных событий"
      ],
      "metadata": {
        "id": "Di-k9l71xrH-"
      }
    },
    {
      "cell_type": "markdown",
      "source": [
        "**Задача №1** :"
      ],
      "metadata": {
        "id": "Dcf-_Tdu3X7G"
      }
    },
    {
      "cell_type": "markdown",
      "source": [
        "Из колоды в 52 карты извлекаются случайным образом 4 карты. a) Найти вероятность того, что все карты – крести. б) Найти вероятность, что среди 4-х карт окажется хотя бы один туз."
      ],
      "metadata": {
        "id": "cJzO6_EDc3Fw"
      }
    },
    {
      "cell_type": "code",
      "source": [
        "import numpy as np"
      ],
      "metadata": {
        "id": "UWYi5H_-yglJ"
      },
      "execution_count": null,
      "outputs": []
    },
    {
      "cell_type": "code",
      "execution_count": null,
      "metadata": {
        "id": "R8d5OuWvxojo"
      },
      "outputs": [],
      "source": [
        "from math import factorial"
      ]
    },
    {
      "cell_type": "markdown",
      "source": [
        "Формула подсчета количества сочетаний по k элементов из множества n\n",
        "\n",
        "C(nk) = n!/(k!*(n - k)!)"
      ],
      "metadata": {
        "id": "MRbvPR9S6ZFt"
      }
    },
    {
      "cell_type": "markdown",
      "source": [
        "P(A)=m/n - общее количество исходов определяется кол-ом сочетаний из 52 возможных 4 карты , а количество благоприятных исходов - из 13 возможных 4 крести"
      ],
      "metadata": {
        "id": "O2pM5cIo6viK"
      }
    },
    {
      "cell_type": "code",
      "source": [
        "def combinations(n, k):\n",
        "  return np.math.factorial(n) // (np.math.factorial(k) * np.math.factorial(n - k))\n"
      ],
      "metadata": {
        "id": "hM6Vo1NpyEBn"
      },
      "execution_count": null,
      "outputs": []
    },
    {
      "cell_type": "markdown",
      "source": [
        "a) Найти вероятность того, что все карты – крести:"
      ],
      "metadata": {
        "id": "skMM3CEM-Yxl"
      }
    },
    {
      "cell_type": "markdown",
      "source": [
        "Kоличество благоприятных исходов - 4 карты крести из 13 возможных = 715"
      ],
      "metadata": {
        "id": "jBtQzg-l-ojS"
      }
    },
    {
      "cell_type": "code",
      "source": [
        "combinations(13, 4)"
      ],
      "metadata": {
        "colab": {
          "base_uri": "https://localhost:8080/"
        },
        "id": "cX0dI7bC-srJ",
        "outputId": "7e9da2fd-c06e-4170-afc7-0c2af65346f6"
      },
      "execution_count": null,
      "outputs": [
        {
          "output_type": "execute_result",
          "data": {
            "text/plain": [
              "715"
            ]
          },
          "metadata": {},
          "execution_count": 18
        }
      ]
    },
    {
      "cell_type": "markdown",
      "source": [
        "Общее количество исходов 4 карты из 52 = 270725"
      ],
      "metadata": {
        "id": "novqdeIE_EcR"
      }
    },
    {
      "cell_type": "code",
      "source": [
        "combinations(52, 4)"
      ],
      "metadata": {
        "colab": {
          "base_uri": "https://localhost:8080/"
        },
        "id": "Jlj14sEg_Kgg",
        "outputId": "1f3a375f-de0e-448a-a306-deb81247ea11"
      },
      "execution_count": null,
      "outputs": [
        {
          "output_type": "execute_result",
          "data": {
            "text/plain": [
              "270725"
            ]
          },
          "metadata": {},
          "execution_count": 19
        }
      ]
    },
    {
      "cell_type": "code",
      "source": [
        "m = combinations(13, 4)\n",
        "n = combinations(52, 4)\n",
        "P = m / n\n",
        "print(\n",
        "    f'\\n<<< Вероятность того, что все карты – крести = {round(P*100,3)}% >>>')"
      ],
      "metadata": {
        "colab": {
          "base_uri": "https://localhost:8080/"
        },
        "id": "cT7MXQTn7yl6",
        "outputId": "de674725-0d41-4ee1-8daa-c0f278b239fc"
      },
      "execution_count": null,
      "outputs": [
        {
          "output_type": "stream",
          "name": "stdout",
          "text": [
            "\n",
            "<<< Вероятность того, что все карты – крести = 0.264% >>>\n"
          ]
        }
      ]
    },
    {
      "cell_type": "markdown",
      "source": [
        "Вероятность, что из 4х карт достанем хотябы одного туза, а может туза и не оказаться: Р(А)+Р(-А)=1 сумма вероятностей противоположных событий равна 1. Вероятность, что тузов не окажется совсем - это сочетание из 48 карт (без тузов) 4 карты. P(A)=m/n - общее количество исходов определяется кол-ом сочетаний из 52 возможных 4 карты."
      ],
      "metadata": {
        "id": "AefPkzjq861C"
      }
    },
    {
      "cell_type": "markdown",
      "source": [
        "Найти вероятность, что среди 4-х карт окажется хотя бы один туз:"
      ],
      "metadata": {
        "id": "a7_-xqt7_35n"
      }
    },
    {
      "cell_type": "markdown",
      "source": [
        "Kоличество способов извлечь 4 карты из колоды без тузов = 194580"
      ],
      "metadata": {
        "id": "jwsuFzIfAE_K"
      }
    },
    {
      "cell_type": "code",
      "source": [
        "combinations(48, 4)"
      ],
      "metadata": {
        "colab": {
          "base_uri": "https://localhost:8080/"
        },
        "id": "mpnDgwF3AJhx",
        "outputId": "6071e38c-1aa3-4c1d-c95b-4bcec102da96"
      },
      "execution_count": null,
      "outputs": [
        {
          "output_type": "execute_result",
          "data": {
            "text/plain": [
              "194580"
            ]
          },
          "metadata": {},
          "execution_count": 21
        }
      ]
    },
    {
      "cell_type": "markdown",
      "source": [
        "Общее количество исходов 4 карты из 52 = 270725"
      ],
      "metadata": {
        "id": "_UFOBfZwAWLu"
      }
    },
    {
      "cell_type": "code",
      "source": [
        "combinations(52, 4)"
      ],
      "metadata": {
        "colab": {
          "base_uri": "https://localhost:8080/"
        },
        "id": "61haO8PCAaB3",
        "outputId": "9abcb722-449a-49fc-efb0-5f201ea8b4f0"
      },
      "execution_count": null,
      "outputs": [
        {
          "output_type": "execute_result",
          "data": {
            "text/plain": [
              "270725"
            ]
          },
          "metadata": {},
          "execution_count": 22
        }
      ]
    },
    {
      "cell_type": "code",
      "source": [
        "m = combinations(48, 4)\n",
        "n = combinations(52, 4)\n",
        "\n",
        "P = 1-m / n  # Р(А)=1-Р(-А)\n",
        "\n",
        "print(\n",
        "    f'\\n<<< Вероятность извлеч одного или больше тузов = {round(P*100,3)}% >>>')"
      ],
      "metadata": {
        "colab": {
          "base_uri": "https://localhost:8080/"
        },
        "id": "51bC6k6X9Di3",
        "outputId": "1d57a211-676b-4ccc-ac40-e4b34168b7be"
      },
      "execution_count": null,
      "outputs": [
        {
          "output_type": "stream",
          "name": "stdout",
          "text": [
            "\n",
            "<<< Вероятность извлеч одного или больше тузов = 28.126% >>>\n"
          ]
        }
      ]
    },
    {
      "cell_type": "markdown",
      "source": [
        " **Задача №2 :**"
      ],
      "metadata": {
        "id": "CVCEa2083CCN"
      }
    },
    {
      "cell_type": "markdown",
      "source": [
        "На входной двери подъезда установлен кодовый замок, содержащий десять кнопок с цифрами от 0 до 9. Код содержит три цифры, которые нужно нажать одновременно. Какова вероятность того, что человек, не знающий код, откроет дверь с первой попытки?"
      ],
      "metadata": {
        "id": "nh9Yzby8r24i"
      }
    },
    {
      "cell_type": "markdown",
      "source": [
        "Формула подсчета количества сочетаний по k элементов из множества n\n",
        "C(nk) = n!/(k!*(n - k)!)\n"
      ],
      "metadata": {
        "id": "8ff39BBg2Z6i"
      }
    },
    {
      "cell_type": "markdown",
      "source": [
        "P(A)=m/n - общее количество исходов определяется кол-ом сочетаний из 10 возможных 3,\n",
        "а количество благоприятных исходов открытия замка 1"
      ],
      "metadata": {
        "id": "io4B5P3r2m__"
      }
    },
    {
      "cell_type": "code",
      "source": [
        "def f_combination(n, k):\n",
        "    return (factorial(n) / (factorial(k) * factorial(n-k)))\n",
        "f_combination(10, 3)"
      ],
      "metadata": {
        "colab": {
          "base_uri": "https://localhost:8080/"
        },
        "id": "Ae_VBB4h0dCO",
        "outputId": "20f977eb-ff2a-4318-b9f6-b0d9ec9e1f02"
      },
      "execution_count": null,
      "outputs": [
        {
          "output_type": "execute_result",
          "data": {
            "text/plain": [
              "120.0"
            ]
          },
          "metadata": {},
          "execution_count": 4
        }
      ]
    },
    {
      "cell_type": "code",
      "source": [
        "m = 1\n",
        "n = 120\n",
        "P = m / n\n",
        "print(\n",
        "    f'\\n<<< Вероятность того, что замок откроется с первой попытки = {round(P*100,3)}% >>>')"
      ],
      "metadata": {
        "colab": {
          "base_uri": "https://localhost:8080/"
        },
        "id": "ky_vD3WD1kMZ",
        "outputId": "418ae1fe-e0c8-4d39-bf9c-fd1b14a85f8b"
      },
      "execution_count": null,
      "outputs": [
        {
          "output_type": "stream",
          "name": "stdout",
          "text": [
            "\n",
            "<<< Вероятность того, что замок откроется с первой попытки = 0.833% >>>\n"
          ]
        }
      ]
    },
    {
      "cell_type": "markdown",
      "source": [
        "**Задача №3** :"
      ],
      "metadata": {
        "id": "d5c5FQw73ffF"
      }
    },
    {
      "cell_type": "markdown",
      "source": [
        "Условие: В ящике имеется 15 деталей, из которых 9 окрашены. Рабочий случайным образом извлекает 3 детали. Какова вероятность того, что все извлеченные детали окрашены?"
      ],
      "metadata": {
        "id": "4JSiQXO13l8M"
      }
    },
    {
      "cell_type": "code",
      "source": [
        "def f_combination(n, k):\n",
        "    return (factorial(n) / (factorial(k) * factorial(n-k)))"
      ],
      "metadata": {
        "id": "4gic29hK4_lh"
      },
      "execution_count": null,
      "outputs": []
    },
    {
      "cell_type": "markdown",
      "source": [
        "P(A)=m/n - общее количество исходов определяется кол-ом сочетаний из 15 возможных 3, а количество благоприятных исходов, что все детали окрашены из 9 возможных 3"
      ],
      "metadata": {
        "id": "oeabFOzl5IvY"
      }
    },
    {
      "cell_type": "code",
      "source": [
        "m = f_combination(9, 3)  # m = из \"9\" \"3\"\n",
        "n = f_combination(15, 3)  # n = из \"15\" \"3\"\n",
        "P = m / n\n",
        "print(\n",
        "    f'\\n<<< Вероятность того, что все 3 детали окрашены = {round(P*100,3)}% >>>')"
      ],
      "metadata": {
        "colab": {
          "base_uri": "https://localhost:8080/"
        },
        "id": "SmnzwPYU5QFv",
        "outputId": "6dfbe90b-23ef-4a1f-ca61-8242fcdb342b"
      },
      "execution_count": null,
      "outputs": [
        {
          "output_type": "stream",
          "name": "stdout",
          "text": [
            "\n",
            "<<< Вероятность того, что все 3 детали окрашены = 18.462% >>>\n"
          ]
        }
      ]
    },
    {
      "cell_type": "markdown",
      "source": [
        "**Задача №4** :"
      ],
      "metadata": {
        "id": "7JlEM_SN5a2X"
      }
    },
    {
      "cell_type": "markdown",
      "source": [
        "В лотерее 100 билетов. Из них 2 выигрышных. Какова вероятность того, что 2 приобретенных билета окажутся выигрышными?"
      ],
      "metadata": {
        "id": "FK1ME6eW5pYO"
      }
    },
    {
      "cell_type": "code",
      "source": [
        "def f_combination(n, k):\n",
        "    return (factorial(n) / (factorial(k) * factorial(n-k)))"
      ],
      "metadata": {
        "id": "6o-kG6bW5xDO"
      },
      "execution_count": null,
      "outputs": []
    },
    {
      "cell_type": "markdown",
      "source": [
        "P(A)=m/n - общее количество исходов определяется кол-ом сочетаний из 100 возможных 2, а количество благоприятных исходов, что 2 приобретенных билета окажутся выигрышными только 1"
      ],
      "metadata": {
        "id": "OImnvY_N51w4"
      }
    },
    {
      "cell_type": "code",
      "source": [
        "m = 1\n",
        "n = f_combination(100, 2)\n",
        "P = m / n\n",
        "print(\n",
        "    f'\\n<<< Вероятность того, что 2 билета выиграли = {round(P*100,3)}% >>>')"
      ],
      "metadata": {
        "colab": {
          "base_uri": "https://localhost:8080/"
        },
        "id": "gNG4E6I-54kf",
        "outputId": "7017c8b3-0ff3-4a07-aa52-1e9a3c8141e3"
      },
      "execution_count": null,
      "outputs": [
        {
          "output_type": "stream",
          "name": "stdout",
          "text": [
            "\n",
            "<<< Вероятность того, что 2 билета выиграли = 0.02% >>>\n"
          ]
        }
      ]
    }
  ]
}