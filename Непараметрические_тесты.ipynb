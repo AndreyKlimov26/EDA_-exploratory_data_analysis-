{
  "nbformat": 4,
  "nbformat_minor": 0,
  "metadata": {
    "colab": {
      "provenance": []
    },
    "kernelspec": {
      "name": "python3",
      "display_name": "Python 3"
    },
    "language_info": {
      "name": "python"
    }
  },
  "cells": [
    {
      "cell_type": "markdown",
      "source": [
        "1 )  <br>Даны две  независимые выборки. Не соблюдается условие нормальности\n",
        "x1  380,420, 290\n",
        "y1 140,360,200,900\n",
        "\n",
        "Сделайте вывод по результатам, полученным с помощью функции"
      ],
      "metadata": {
        "id": "zUdQ59yG44kx"
      }
    },
    {
      "cell_type": "code",
      "source": [
        "import numpy as np\n",
        "import scipy.stats as stats"
      ],
      "metadata": {
        "id": "aS9KtXjO5FKA"
      },
      "execution_count": null,
      "outputs": []
    },
    {
      "cell_type": "code",
      "source": [
        "x1=np.array([380,420,290])\n",
        "y1=np.array([140,360,200,900])\n",
        "alpha=0.05\n",
        "stats.mannwhitneyu(x1, y1)"
      ],
      "metadata": {
        "colab": {
          "base_uri": "https://localhost:8080/"
        },
        "id": "7wUyoknx5VQH",
        "outputId": "4cd6bc0b-7991-4738-9de5-732a97c2d6d7"
      },
      "execution_count": null,
      "outputs": [
        {
          "output_type": "execute_result",
          "data": {
            "text/plain": [
              "MannwhitneyuResult(statistic=8.0, pvalue=0.6285714285714286)"
            ]
          },
          "metadata": {},
          "execution_count": 2
        }
      ]
    },
    {
      "cell_type": "markdown",
      "source": [
        " pvalue > α(0,05) статистически значимых различий нет H0\n",
        " не отвергаем"
      ],
      "metadata": {
        "id": "3tqNdqFF5gHZ"
      }
    },
    {
      "cell_type": "markdown",
      "source": [
        "2 ) <br>Исследовалось влияние препарата на уровень давления пациентов. Сначала измерялось давление до приема препарата, потом через 10 минут и через 30 минут. Есть ли статистически значимые различия?\n"
      ],
      "metadata": {
        "id": "0zBX2WMJ878E"
      }
    },
    {
      "cell_type": "markdown",
      "source": [
        "1е измерение до приема препарата: 150, 160, 165, 145, 155\n",
        "<br>2е измерение через 10 минут: 140, 155, 150,  130, 135\n",
        "<br>3е измерение через 30 минут: 130, 130, 120, 130, 125"
      ],
      "metadata": {
        "id": "732NNJ9_9GIg"
      }
    },
    {
      "cell_type": "code",
      "source": [
        "import numpy as np\n",
        "import scipy.stats as stats"
      ],
      "metadata": {
        "id": "V1z3VUdM-M1f"
      },
      "execution_count": null,
      "outputs": []
    },
    {
      "cell_type": "code",
      "source": [
        "x1=np.array([150, 160, 165, 145, 155])\n",
        "x2=np.array([140, 155, 150, 130, 135])\n",
        "x3=np.array([130, 130, 120, 130, 125])\n",
        "alpha=0.05\n",
        "stats.friedmanchisquare(x1, x2, x3)\n"
      ],
      "metadata": {
        "colab": {
          "base_uri": "https://localhost:8080/"
        },
        "id": "8OWcgstS-IKw",
        "outputId": "0c7bf583-4cc9-4e11-9e83-947dbc147051"
      },
      "execution_count": null,
      "outputs": [
        {
          "output_type": "execute_result",
          "data": {
            "text/plain": [
              "FriedmanchisquareResult(statistic=9.578947368421062, pvalue=0.00831683351100441)"
            ]
          },
          "metadata": {},
          "execution_count": 4
        }
      ]
    },
    {
      "cell_type": "markdown",
      "source": [
        "pvalue < α (0,05) H0 отвергаем препарат влияет на давление"
      ],
      "metadata": {
        "id": "B9UQhyv2-bIn"
      }
    },
    {
      "cell_type": "markdown",
      "source": [
        "3 ) <br>Сравните 1 и 2 е измерения, предполагая, что 3го измерения через 30 минут не было."
      ],
      "metadata": {
        "id": "s6sMecC3-36u"
      }
    },
    {
      "cell_type": "code",
      "source": [
        "x1=np.array([150, 160, 165, 145, 155])\n",
        "x2=np.array([140, 155, 150, 130, 135])\n",
        "alpha=0.05\n",
        "stats.wilcoxon(x1, x2)"
      ],
      "metadata": {
        "colab": {
          "base_uri": "https://localhost:8080/"
        },
        "id": "iPf9wd1O_Dkl",
        "outputId": "1a3addce-be78-4df6-c7bc-aed82d37ee7c"
      },
      "execution_count": null,
      "outputs": [
        {
          "output_type": "execute_result",
          "data": {
            "text/plain": [
              "WilcoxonResult(statistic=0.0, pvalue=0.0625)"
            ]
          },
          "metadata": {},
          "execution_count": 5
        }
      ]
    },
    {
      "cell_type": "markdown",
      "source": [
        " Cтатистически значимых различий нет H0\n",
        " не отвергаем, препарат не влияет на давление"
      ],
      "metadata": {
        "id": "GaTqrEFk_I9-"
      }
    },
    {
      "cell_type": "markdown",
      "source": [
        "4) Даны 3 группы  учеников плавания.\n",
        "<br>В 1 группе время на дистанцию 50 м составляют:\n",
        "56, 60, 62, 55, 71, 67, 59, 58, 64, 67\n",
        "<br>Вторая группа : 57, 58, 69, 48, 72, 70, 68, 71, 50, 53\n",
        "<br>Третья группа: 57, 67, 49, 48, 47, 55, 66, 51, 54"
      ],
      "metadata": {
        "id": "O91r5Kns_ZK_"
      }
    },
    {
      "cell_type": "code",
      "source": [
        "x1=np.array([56, 60, 62, 55, 71, 67, 59, 58, 64, 67])\n",
        "x2=np.array([57, 58, 69, 48, 72, 70, 68, 71, 50, 53])\n",
        "x3=np.array([57, 67, 49, 48, 47, 55, 66, 51, 54])\n",
        "alpha=0.05\n",
        "stats.kruskal(x1,x2,x3)"
      ],
      "metadata": {
        "colab": {
          "base_uri": "https://localhost:8080/"
        },
        "id": "v04fpvXK_0cI",
        "outputId": "ceb7a872-3f1a-4935-8b5d-cd13d60428dd"
      },
      "execution_count": null,
      "outputs": [
        {
          "output_type": "execute_result",
          "data": {
            "text/plain": [
              "KruskalResult(statistic=5.465564058257224, pvalue=0.0650380998590494)"
            ]
          },
          "metadata": {},
          "execution_count": 6
        }
      ]
    },
    {
      "cell_type": "markdown",
      "source": [
        " Cтатистически значимых различий нет\n",
        " H0 не отвергаем, время на дистанцию одинаковое"
      ],
      "metadata": {
        "id": "mngaAEkx_5xr"
      }
    },
    {
      "cell_type": "markdown",
      "source": [
        "5) <BR>Заявляется, что партия изготавливается со средним арифметическим 2,5 см. Проверить данную гипотезу, если известно, что размеры изделий подчинены нормальному закону распределения. Объем выборки 10, уровень статистической значимости 5%\n",
        "\n",
        "2.51, 2.35, 2.74, 2.56, 2.40, 2.36, 2.65, 2.7, 2.67, 2.34"
      ],
      "metadata": {
        "id": "L5KtJ6nQAKyr"
      }
    },
    {
      "cell_type": "code",
      "source": [
        "weights = np.array([2.51, 2.35, 2.74, 2.56, 2.40, 2.36, 2.65, 2.7, 2.67, 2.34])\n",
        "n = 10\n",
        "alpha = 0.05\n",
        "df = n - 1\n",
        "mean = weights.mean() # среднее арифметическое для выборки\n",
        "std = weights.std(ddof=1)\n",
        "mean, std"
      ],
      "metadata": {
        "colab": {
          "base_uri": "https://localhost:8080/"
        },
        "id": "iZqzBNxOCNhY",
        "outputId": "6b49d5cb-6b3b-4e2d-d9f0-362eafebfbfe"
      },
      "execution_count": null,
      "outputs": [
        {
          "output_type": "execute_result",
          "data": {
            "text/plain": [
              "(2.5279999999999996, 0.1572542173961923)"
            ]
          },
          "metadata": {},
          "execution_count": 7
        }
      ]
    },
    {
      "cell_type": "code",
      "source": [
        "len(weights)"
      ],
      "metadata": {
        "colab": {
          "base_uri": "https://localhost:8080/"
        },
        "id": "4W6Otv9Qe3gj",
        "outputId": "518e80ee-0155-40a6-ca05-2473c20f52d2"
      },
      "execution_count": null,
      "outputs": [
        {
          "output_type": "execute_result",
          "data": {
            "text/plain": [
              "10"
            ]
          },
          "metadata": {},
          "execution_count": 12
        }
      ]
    },
    {
      "cell_type": "code",
      "source": [
        "d = np.var(weights, ddof=1)\n",
        "d"
      ],
      "metadata": {
        "colab": {
          "base_uri": "https://localhost:8080/"
        },
        "id": "lToDIxU_eX_2",
        "outputId": "1e84ffe9-1462-494a-ff72-bcc279903539"
      },
      "execution_count": null,
      "outputs": [
        {
          "output_type": "execute_result",
          "data": {
            "text/plain": [
              "0.02472888888888891"
            ]
          },
          "metadata": {},
          "execution_count": 14
        }
      ]
    },
    {
      "cell_type": "code",
      "source": [
        "t1 = stats.t.ppf(0.975, df)\n",
        "t1"
      ],
      "metadata": {
        "colab": {
          "base_uri": "https://localhost:8080/"
        },
        "id": "eaQ3-9KPesFV",
        "outputId": "d600eb55-5b0f-47ac-aacd-a3f80549d75a"
      },
      "execution_count": null,
      "outputs": [
        {
          "output_type": "execute_result",
          "data": {
            "text/plain": [
              "2.2621571627409915"
            ]
          },
          "metadata": {},
          "execution_count": 11
        }
      ]
    },
    {
      "cell_type": "code",
      "source": [
        "u = mean - t1 * np.sqrt(d/10)\n",
        "l = mean + t1 * np.sqrt(d/10)\n",
        "u, l"
      ],
      "metadata": {
        "colab": {
          "base_uri": "https://localhost:8080/"
        },
        "id": "ecxeC4f2e_vN",
        "outputId": "4ab56cea-6d38-4ae3-d7de-83c6ea7d6c85"
      },
      "execution_count": null,
      "outputs": [
        {
          "output_type": "execute_result",
          "data": {
            "text/plain": [
              "(2.4155071095954663, 2.640492890404533)"
            ]
          },
          "metadata": {},
          "execution_count": 15
        }
      ]
    }
  ]
}