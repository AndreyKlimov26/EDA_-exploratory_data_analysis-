{
  "nbformat": 4,
  "nbformat_minor": 0,
  "metadata": {
    "colab": {
      "provenance": []
    },
    "kernelspec": {
      "name": "python3",
      "display_name": "Python 3"
    },
    "language_info": {
      "name": "python"
    }
  },
  "cells": [
    {
      "cell_type": "markdown",
      "source": [
        "1. Известно, что генеральная совокупность распределена нормально\n",
        "со средним квадратическим отклонением, равным 16.\n",
        "Найти доверительный интервал для оценки математического ожидания a с надежностью 0.95,\n",
        "если выборочная средняя M = 80, а объем выборки n = 256."
      ],
      "metadata": {
        "id": "NqmOk7iv0v_Z"
      }
    },
    {
      "cell_type": "code",
      "source": [
        "import numpy as np\n",
        "import math"
      ],
      "metadata": {
        "id": "8Heagj-_037n"
      },
      "execution_count": null,
      "outputs": []
    },
    {
      "cell_type": "code",
      "execution_count": null,
      "metadata": {
        "colab": {
          "base_uri": "https://localhost:8080/"
        },
        "id": "UQHbGQL40nUT",
        "outputId": "c19b2c40-4d78-40a9-f4fb-f5913d50da9e"
      },
      "outputs": [
        {
          "output_type": "stream",
          "name": "stdout",
          "text": [
            "Доверительный интервал: [81.96, 81.96]\n"
          ]
        }
      ],
      "source": [
        "lambda_ = 0.95\n",
        "z = 1.96\n",
        "\n",
        "sigma = 16\n",
        "M = 80\n",
        "n = 256\n",
        "\n",
        "U = M + (z * sigma / math.sqrt(n))\n",
        "\n",
        "L = M + (z * sigma / math.sqrt(n))\n",
        "\n",
        "print(f'Доверительный интервал: [{U}, {L}]')"
      ]
    },
    {
      "cell_type": "markdown",
      "source": [
        "2. В результате 10 независимых измерений некоторой величины X, выполненных с одинаковой точностью, получены опытные данные: 6.9, 6.1, 6.2, 6.8, 7.5, 6.3, 6.4, 6.9, 6.7, 6.1 Предполагая, что результаты измерений подчинены нормальному закону распределения вероятностей, оценить истинное значение величины X при помощи доверительного интервала, покрывающего это значение с доверительной вероятностью 0,95."
      ],
      "metadata": {
        "id": "vTXZ0MH61cAn"
      }
    },
    {
      "cell_type": "code",
      "source": [
        "X = np.array([6.9, 6.1, 6.2, 6.8, 7.5, 6.3, 6.4, 6.9, 6.7, 6.1])"
      ],
      "metadata": {
        "id": "hsZWEJ3IANBw"
      },
      "execution_count": null,
      "outputs": []
    },
    {
      "cell_type": "code",
      "source": [
        "n = len(X)\n",
        "n"
      ],
      "metadata": {
        "colab": {
          "base_uri": "https://localhost:8080/"
        },
        "id": "rYYMqGXeCyVC",
        "outputId": "4dc33d9c-3a1f-4559-b38b-de68f39f965d"
      },
      "execution_count": null,
      "outputs": [
        {
          "output_type": "execute_result",
          "data": {
            "text/plain": [
              "10"
            ]
          },
          "metadata": {},
          "execution_count": 16
        }
      ]
    },
    {
      "cell_type": "code",
      "source": [
        "m = np.mean(X)\n",
        "m"
      ],
      "metadata": {
        "colab": {
          "base_uri": "https://localhost:8080/"
        },
        "id": "sveewCiCC7yq",
        "outputId": "a19846c8-66a6-4785-e5ff-8a8044830e2a"
      },
      "execution_count": null,
      "outputs": [
        {
          "output_type": "execute_result",
          "data": {
            "text/plain": [
              "6.590000000000001"
            ]
          },
          "metadata": {},
          "execution_count": 17
        }
      ]
    },
    {
      "cell_type": "code",
      "source": [
        "D = np.var(X, ddof=1) # несмещённая десперсия для выборки\n",
        "D"
      ],
      "metadata": {
        "colab": {
          "base_uri": "https://localhost:8080/"
        },
        "id": "tVDvUw0JAV9E",
        "outputId": "bcb046c2-4b55-472d-e65f-5aab604ee7a1"
      },
      "execution_count": null,
      "outputs": [
        {
          "output_type": "execute_result",
          "data": {
            "text/plain": [
              "0.2032222222222223"
            ]
          },
          "metadata": {},
          "execution_count": 18
        }
      ]
    },
    {
      "cell_type": "code",
      "source": [
        "import scipy.stats as stats"
      ],
      "metadata": {
        "id": "SAVR2I5rBGv2"
      },
      "execution_count": null,
      "outputs": []
    },
    {
      "cell_type": "code",
      "source": [
        "t1  = stats.t.ppf(0.975, n)\n",
        "t1"
      ],
      "metadata": {
        "colab": {
          "base_uri": "https://localhost:8080/"
        },
        "id": "ENVMBGpKA1lk",
        "outputId": "ad76d929-e49b-4b44-d70f-69954ca50168"
      },
      "execution_count": null,
      "outputs": [
        {
          "output_type": "execute_result",
          "data": {
            "text/plain": [
              "2.2281388519649385"
            ]
          },
          "metadata": {},
          "execution_count": 22
        }
      ]
    },
    {
      "cell_type": "code",
      "source": [
        "U = M - t1 * np.sqrt (D/n)\n",
        "L = M + t1 * np.sqrt (D/n)"
      ],
      "metadata": {
        "id": "PWchbWGLBiTu"
      },
      "execution_count": null,
      "outputs": []
    },
    {
      "cell_type": "code",
      "source": [
        "print(f'Доверительный интервал: [{U}, {L}]')"
      ],
      "metadata": {
        "colab": {
          "base_uri": "https://localhost:8080/"
        },
        "id": "nGXIZrHUCNpM",
        "outputId": "1663427a-0e3e-4b7d-ddaa-61b4c9456925"
      },
      "execution_count": null,
      "outputs": [
        {
          "output_type": "stream",
          "name": "stdout",
          "text": [
            "Доверительный интервал: [6.272365366810832, 6.907634633189169]\n"
          ]
        }
      ]
    },
    {
      "cell_type": "markdown",
      "source": [
        "3. Рост дочерей 175, 167, 154, 174, 178, 148, 160, 167, 169, 170 Рост матерей  178, 165, 165, 173, 168, 155, 160, 164, 178, 175 Используя эти данные построить 95% доверительный интервал для разности среднего роста родителей и детей."
      ],
      "metadata": {
        "id": "DWvgK6QR3Zvj"
      }
    },
    {
      "cell_type": "code",
      "source": [
        "d = np.array([175, 167, 154, 174, 178, 148, 160, 167, 169, 170])\n",
        "m = np.array([178, 165, 165, 173, 168, 155, 160, 164, 178, 175])"
      ],
      "metadata": {
        "id": "TpcI7zRJDzJ5"
      },
      "execution_count": null,
      "outputs": []
    },
    {
      "cell_type": "markdown",
      "source": [
        "D=1/2(D_1+D_2), где   D_1 и D_2 – дисперсии обеих групп"
      ],
      "metadata": {
        "id": "DV7BgNMGELwX"
      }
    },
    {
      "cell_type": "markdown",
      "source": [
        "А вместо стандартной ошибки среднего  σ/√n найдем стандартную ошибку разности средних:S_Δ=√(D/n1 + D/n2 ) где n1 и  n2 – объемы выборок."
      ],
      "metadata": {
        "id": "fLxhHDWuES6h"
      }
    },
    {
      "cell_type": "markdown",
      "source": [
        "И таким образом, формула для нахождения доверительного интервала для разности средних арифметических µ_1-µ_2 будет: Δ± t_(α/2)* SΔ , где Δ= (X1) - (X2)"
      ],
      "metadata": {
        "id": "0sr95MqqEr3-"
      }
    },
    {
      "cell_type": "markdown",
      "source": [
        "В данном случае для критерия Стьюдента степени свободы df = 2*(n-1)"
      ],
      "metadata": {
        "id": "cpr0sZN-FFgJ"
      }
    },
    {
      "cell_type": "code",
      "source": [
        "len(d)"
      ],
      "metadata": {
        "colab": {
          "base_uri": "https://localhost:8080/"
        },
        "id": "lEnWbLtqFQHk",
        "outputId": "3e130ae6-dbeb-4077-ca6c-c92d0335660c"
      },
      "execution_count": null,
      "outputs": [
        {
          "output_type": "execute_result",
          "data": {
            "text/plain": [
              "10"
            ]
          },
          "metadata": {},
          "execution_count": 26
        }
      ]
    },
    {
      "cell_type": "code",
      "source": [
        "len(m)"
      ],
      "metadata": {
        "colab": {
          "base_uri": "https://localhost:8080/"
        },
        "id": "0hGySWsoFWVq",
        "outputId": "2e3bb92a-9380-4c99-cfbd-10d37b8115bb"
      },
      "execution_count": null,
      "outputs": [
        {
          "output_type": "execute_result",
          "data": {
            "text/plain": [
              "10"
            ]
          },
          "metadata": {},
          "execution_count": 27
        }
      ]
    },
    {
      "cell_type": "code",
      "source": [
        "x_1 = np.mean(d) # среднее арифметическое для выборки d\n",
        "x_1"
      ],
      "metadata": {
        "colab": {
          "base_uri": "https://localhost:8080/"
        },
        "id": "Dqq5vVmzFcFy",
        "outputId": "a7d41697-141b-43d2-81a9-59420b43e105"
      },
      "execution_count": null,
      "outputs": [
        {
          "output_type": "execute_result",
          "data": {
            "text/plain": [
              "166.2"
            ]
          },
          "metadata": {},
          "execution_count": 28
        }
      ]
    },
    {
      "cell_type": "code",
      "source": [
        "x_2 = np.mean(m) # среднее арифметическое для выборки m\n",
        "x_2"
      ],
      "metadata": {
        "colab": {
          "base_uri": "https://localhost:8080/"
        },
        "id": "M15gwbzZFi0b",
        "outputId": "349e3f91-ca6a-4e1f-800d-4c98529029b9"
      },
      "execution_count": null,
      "outputs": [
        {
          "output_type": "execute_result",
          "data": {
            "text/plain": [
              "168.1"
            ]
          },
          "metadata": {},
          "execution_count": 30
        }
      ]
    },
    {
      "cell_type": "code",
      "source": [
        "delta = x_1 - x_2 # разность средних\n",
        "delta"
      ],
      "metadata": {
        "colab": {
          "base_uri": "https://localhost:8080/"
        },
        "id": "Hu20WPChFs5F",
        "outputId": "1e686f9c-ea6f-4428-a372-0ed12d1a150e"
      },
      "execution_count": null,
      "outputs": [
        {
          "output_type": "execute_result",
          "data": {
            "text/plain": [
              "-1.9000000000000057"
            ]
          },
          "metadata": {},
          "execution_count": 31
        }
      ]
    },
    {
      "cell_type": "markdown",
      "source": [
        "Находим несмещенные дисперсии для каждой выборки и затем стандартную ошибку для разности средних и критерий Стьюдента."
      ],
      "metadata": {
        "id": "0Jh8sfOSGLuV"
      }
    },
    {
      "cell_type": "code",
      "source": [
        "D1 = np.var(m, ddof=1) # несмещенная дисперсия для выборки m\n",
        "D1"
      ],
      "metadata": {
        "colab": {
          "base_uri": "https://localhost:8080/"
        },
        "id": "FoXZSZ0qGPZ2",
        "outputId": "a0523785-2349-478a-ad7b-a6636f84c6e4"
      },
      "execution_count": null,
      "outputs": [
        {
          "output_type": "execute_result",
          "data": {
            "text/plain": [
              "60.10000000000001"
            ]
          },
          "metadata": {},
          "execution_count": 32
        }
      ]
    },
    {
      "cell_type": "code",
      "source": [
        "D2 = np.var(d, ddof=1) # несмещенная дисперсия для выборки d\n",
        "D2"
      ],
      "metadata": {
        "colab": {
          "base_uri": "https://localhost:8080/"
        },
        "id": "dn3roMxtGibM",
        "outputId": "6a57c574-035c-45ff-f20a-93897b60a7a9"
      },
      "execution_count": null,
      "outputs": [
        {
          "output_type": "execute_result",
          "data": {
            "text/plain": [
              "91.06666666666666"
            ]
          },
          "metadata": {},
          "execution_count": 33
        }
      ]
    },
    {
      "cell_type": "code",
      "source": [
        "D = (D1 + D2)/2 # обьеденённая оценка дисперсии\n",
        "D"
      ],
      "metadata": {
        "colab": {
          "base_uri": "https://localhost:8080/"
        },
        "id": "qKAp89sAGtAS",
        "outputId": "b9b8789e-3fe8-4f18-830e-8ce0e59e6ea4"
      },
      "execution_count": null,
      "outputs": [
        {
          "output_type": "execute_result",
          "data": {
            "text/plain": [
              "75.58333333333334"
            ]
          },
          "metadata": {},
          "execution_count": 34
        }
      ]
    },
    {
      "cell_type": "code",
      "source": [
        "SE = np.sqrt(D/10 + D/10) # стандартная ошибка разности средних\n",
        "SE"
      ],
      "metadata": {
        "colab": {
          "base_uri": "https://localhost:8080/"
        },
        "id": "OgwomEVRHACp",
        "outputId": "48f84cc1-de42-4859-e2f8-1865138b9029"
      },
      "execution_count": null,
      "outputs": [
        {
          "output_type": "execute_result",
          "data": {
            "text/plain": [
              "3.8880157750022915"
            ]
          },
          "metadata": {},
          "execution_count": 35
        }
      ]
    },
    {
      "cell_type": "code",
      "source": [
        "t = stats.t.ppf(0.975, 18) # степень свободы 2 * (n - 1)\n",
        "t"
      ],
      "metadata": {
        "colab": {
          "base_uri": "https://localhost:8080/"
        },
        "id": "qADg90zwHei1",
        "outputId": "252992db-44a3-48ca-c5cb-8f6166618fee"
      },
      "execution_count": null,
      "outputs": [
        {
          "output_type": "execute_result",
          "data": {
            "text/plain": [
              "2.10092204024096"
            ]
          },
          "metadata": {},
          "execution_count": 36
        }
      ]
    },
    {
      "cell_type": "markdown",
      "source": [
        "Теперь осталось посчитать верхнюю и нижнюю границы доверительного интервала L и  U соответственно"
      ],
      "metadata": {
        "id": "3597Nw2LH_5x"
      }
    },
    {
      "cell_type": "code",
      "source": [
        "L = delta - t * SE # нижняя граница интервала\n",
        "U = delta + t * SE # верхняя граница интервала\n",
        "print(\"[\", L, \":\", U, \"]\")"
      ],
      "metadata": {
        "colab": {
          "base_uri": "https://localhost:8080/"
        },
        "id": "PJztc5_qIBr3",
        "outputId": "e9f95f1b-e924-4980-f8f4-c5de722e0e6d"
      },
      "execution_count": null,
      "outputs": [
        {
          "output_type": "stream",
          "name": "stdout",
          "text": [
            "[ -10.068418034506857 : 6.268418034506846 ]\n"
          ]
        }
      ]
    }
  ]
}