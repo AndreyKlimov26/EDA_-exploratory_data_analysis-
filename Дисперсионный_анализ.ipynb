{
  "nbformat": 4,
  "nbformat_minor": 0,
  "metadata": {
    "colab": {
      "provenance": []
    },
    "kernelspec": {
      "name": "python3",
      "display_name": "Python 3"
    },
    "language_info": {
      "name": "python"
    }
  },
  "cells": [
    {
      "cell_type": "code",
      "execution_count": null,
      "metadata": {
        "id": "JcMBBorb8_2t"
      },
      "outputs": [],
      "source": [
        "import numpy as np\n",
        "from scipy import stats"
      ]
    },
    {
      "cell_type": "markdown",
      "source": [
        "Провести дисперсионный анализ для определения того, есть ли различия среднего роста среди взрослых футболистов, хоккеистов и штангистов. Даны значения роста в трех группах случайно выбранных спортсменов: Футболисты: 173, 175, 180, 178, 177, 185, 183, 182. Хоккеисты: 177, 179, 180, 188, 177, 172, 171, 184, 180. Штангисты: 172, 173, 169, 177, 166, 180, 178, 177, 172, 166, 170."
      ],
      "metadata": {
        "id": "ubbQ5Emw9D2N"
      }
    },
    {
      "cell_type": "code",
      "source": [
        "fp = np.array([173, 175, 180, 178, 177, 185, 183, 182], dtype=np.float64)\n",
        "hp = np.array([177, 179, 180, 188, 177, 172, 171, 184, 180], dtype=np.float64)\n",
        "lf = np.array([172, 173, 169, 177, 166, 180, 178, 177, 172, 166, 170], dtype=np.float64)\n",
        "\n",
        "n1 = fp.shape[0]\n",
        "n2 = hp.shape[0]\n",
        "n3 = lf.shape[0]"
      ],
      "metadata": {
        "id": "KIVH14wx9Vxd"
      },
      "execution_count": null,
      "outputs": []
    },
    {
      "cell_type": "code",
      "source": [
        "fp_mean = fp.mean()\n",
        "hp_mean = hp.mean()\n",
        "lf_mean = lf.mean()\n",
        "\n",
        "fp_mean, hp_mean, lf_mean"
      ],
      "metadata": {
        "colab": {
          "base_uri": "https://localhost:8080/"
        },
        "id": "XRrc1XW89aMM",
        "outputId": "6a2280c1-783b-4205-8ed5-a494e27e3900"
      },
      "execution_count": null,
      "outputs": [
        {
          "output_type": "execute_result",
          "data": {
            "text/plain": [
              "(179.125, 178.66666666666666, 172.72727272727272)"
            ]
          },
          "metadata": {},
          "execution_count": 3
        }
      ]
    },
    {
      "cell_type": "markdown",
      "source": [
        "Видно, что средние роста хокеистов и футболистов отличаются не сильно. Проверим статистическую значимость всех отличий."
      ],
      "metadata": {
        "id": "oqfUY8Kl9fDt"
      }
    },
    {
      "cell_type": "code",
      "source": [
        "y = np.concatenate([fp, hp, lf])\n",
        "print(y)"
      ],
      "metadata": {
        "colab": {
          "base_uri": "https://localhost:8080/"
        },
        "id": "vbYemZdY9h5-",
        "outputId": "200dbcdc-de6a-468f-c8c8-9254f7878bb8"
      },
      "execution_count": null,
      "outputs": [
        {
          "output_type": "stream",
          "name": "stdout",
          "text": [
            "[173. 175. 180. 178. 177. 185. 183. 182. 177. 179. 180. 188. 177. 172.\n",
            " 171. 184. 180. 172. 173. 169. 177. 166. 180. 178. 177. 172. 166. 170.]\n"
          ]
        }
      ]
    },
    {
      "cell_type": "code",
      "source": [
        "y_mean = y.mean()\n",
        "y_mean"
      ],
      "metadata": {
        "colab": {
          "base_uri": "https://localhost:8080/"
        },
        "id": "lbeBeZ999lz2",
        "outputId": "e3253435-751b-4312-dda0-37ab910d6a35"
      },
      "execution_count": null,
      "outputs": [
        {
          "output_type": "execute_result",
          "data": {
            "text/plain": [
              "176.46428571428572"
            ]
          },
          "metadata": {},
          "execution_count": 5
        }
      ]
    },
    {
      "cell_type": "markdown",
      "source": [
        "Найдём значения Sf и Sres"
      ],
      "metadata": {
        "id": "V0rFXSFX9w2C"
      }
    },
    {
      "cell_type": "code",
      "source": [
        "S2_F = n1 * (fp_mean - y_mean) ** 2 + n2 * (hp_mean - y_mean) ** 2 + n3 * (lf_mean - y_mean) ** 2\n",
        "S2_res = ((fp - fp_mean) ** 2).sum() + ((hp - hp_mean) ** 2).sum() + ((lf - lf_mean) ** 2).sum()\n",
        "S2_F, S2_res"
      ],
      "metadata": {
        "colab": {
          "base_uri": "https://localhost:8080/"
        },
        "id": "H-KcMixg-FL5",
        "outputId": "d1d707fc-2bdb-483c-907f-482fe999337b"
      },
      "execution_count": null,
      "outputs": [
        {
          "output_type": "execute_result",
          "data": {
            "text/plain": [
              "(253.9074675324678, 577.0568181818182)"
            ]
          },
          "metadata": {},
          "execution_count": 6
        }
      ]
    },
    {
      "cell_type": "markdown",
      "source": [
        "Проверим выполнение равенства ![image.png](data:image/png;base64,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)"
      ],
      "metadata": {
        "id": "xChRmZb6-MQM"
      }
    },
    {
      "cell_type": "code",
      "source": [
        "S2_F + S2_res"
      ],
      "metadata": {
        "colab": {
          "base_uri": "https://localhost:8080/"
        },
        "id": "2kKm-Ufx-aY1",
        "outputId": "9b15b06e-04c4-4349-a386-240aa6dd9c1c"
      },
      "execution_count": null,
      "outputs": [
        {
          "output_type": "execute_result",
          "data": {
            "text/plain": [
              "830.964285714286"
            ]
          },
          "metadata": {},
          "execution_count": 7
        }
      ]
    },
    {
      "cell_type": "code",
      "source": [
        "((y - y_mean) ** 2).sum()"
      ],
      "metadata": {
        "colab": {
          "base_uri": "https://localhost:8080/"
        },
        "id": "UwcnY-VR-etF",
        "outputId": "7ff794fd-9576-4772-f874-d492b58a6785"
      },
      "execution_count": null,
      "outputs": [
        {
          "output_type": "execute_result",
          "data": {
            "text/plain": [
              "830.9642857142854"
            ]
          },
          "metadata": {},
          "execution_count": 8
        }
      ]
    },
    {
      "cell_type": "markdown",
      "source": [
        "Запишем оценки дисперсий:"
      ],
      "metadata": {
        "id": "KtS0HKyL-iPm"
      }
    },
    {
      "cell_type": "code",
      "source": [
        "k = 3\n",
        "n = n1 + n2 + n3\n",
        "\n",
        "k1 = k - 1\n",
        "k2 = n - k\n",
        "\n",
        "sigma2_F = S2_F / k1\n",
        "sigma2_res = S2_res / k2\n",
        "\n",
        "sigma2_F, sigma2_res"
      ],
      "metadata": {
        "colab": {
          "base_uri": "https://localhost:8080/"
        },
        "id": "buNysej7-lyC",
        "outputId": "373690a0-3d1a-4152-db51-06ccf831aa1a"
      },
      "execution_count": null,
      "outputs": [
        {
          "output_type": "execute_result",
          "data": {
            "text/plain": [
              "(126.9537337662339, 23.08227272727273)"
            ]
          },
          "metadata": {},
          "execution_count": 9
        }
      ]
    },
    {
      "cell_type": "markdown",
      "source": [
        "Итак, значение статистики T\n",
        ":"
      ],
      "metadata": {
        "id": "fMx_345w-qPJ"
      }
    },
    {
      "cell_type": "code",
      "source": [
        "T = sigma2_F / sigma2_res\n",
        "T"
      ],
      "metadata": {
        "colab": {
          "base_uri": "https://localhost:8080/"
        },
        "id": "Pf51V6tR-vS5",
        "outputId": "3b3173f6-6917-4294-fb13-714aa03b4cdf"
      },
      "execution_count": null,
      "outputs": [
        {
          "output_type": "execute_result",
          "data": {
            "text/plain": [
              "5.500053450812598"
            ]
          },
          "metadata": {},
          "execution_count": 10
        }
      ]
    },
    {
      "cell_type": "markdown",
      "source": [
        "Зафиксируем уровень значимости = 0.05\n",
        ". Для него найдём критическое значение\n",
        ":"
      ],
      "metadata": {
        "id": "SRjeBHP0-z5R"
      }
    },
    {
      "cell_type": "code",
      "source": [
        "alpha = 0.05\n",
        "\n",
        "F_crit = stats.f.ppf(1 - alpha, k1, k2)\n",
        "F_crit"
      ],
      "metadata": {
        "colab": {
          "base_uri": "https://localhost:8080/"
        },
        "id": "BgP9ru-z-6Up",
        "outputId": "f98086d6-6d19-4e47-ab73-a9ab90ab9762"
      },
      "execution_count": null,
      "outputs": [
        {
          "output_type": "execute_result",
          "data": {
            "text/plain": [
              "3.3851899614491687"
            ]
          },
          "metadata": {},
          "execution_count": 11
        }
      ]
    },
    {
      "cell_type": "markdown",
      "source": [
        "Видим, что t больше критического значения F crit\n",
        ", поэтому заключаем, что отличие среднего роста футболистов, хокеистов и штангистов действительно является статистически значимым"
      ],
      "metadata": {
        "id": "0LYUAYkv--nL"
      }
    }
  ]
}