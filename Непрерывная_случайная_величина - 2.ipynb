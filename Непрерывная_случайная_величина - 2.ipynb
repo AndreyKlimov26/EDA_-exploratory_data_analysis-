{
  "nbformat": 4,
  "nbformat_minor": 0,
  "metadata": {
    "colab": {
      "provenance": []
    },
    "kernelspec": {
      "name": "python3",
      "display_name": "Python 3"
    },
    "language_info": {
      "name": "python"
    }
  },
  "cells": [
    {
      "cell_type": "markdown",
      "source": [
        "Задача 1 Условие: Случайная непрерывная величина A имеет равномерное распределение на промежутке (200, 800]. Найдите ее среднее значение и дисперсию."
      ],
      "metadata": {
        "id": "KKUQYqoy5kwR"
      }
    },
    {
      "cell_type": "code",
      "execution_count": null,
      "metadata": {
        "colab": {
          "base_uri": "https://localhost:8080/"
        },
        "id": "riJoL0CL5cMI",
        "outputId": "610c3ff3-e335-4a01-f5d1-77384e5ac0b2"
      },
      "outputs": [
        {
          "output_type": "stream",
          "name": "stdout",
          "text": [
            "На промежутке (200, 800]\n",
            "Среднее значение: М(А) =  500\n",
            "Дисперсия: D(A) =  30000\n"
          ]
        }
      ],
      "source": [
        "a = 200\n",
        "b = 800\n",
        "print(f'На промежутке ({a}, {b}]\\nСреднее значение: М(А) = {(a+b)/2: .0f}\\nДисперсия: D(A) = {((b-a)**2)/12: .0f}')"
      ]
    },
    {
      "cell_type": "markdown",
      "source": [
        "Задача 2 Условие: О случайной непрерывной равномерно распределенной величине B известно, что ее дисперсия равна 0.2. Можно ли найти правую границу величины B и ее среднее значение зная, что левая граница равна 0.5? Если да, найдите ее."
      ],
      "metadata": {
        "id": "nl_6EWpo515V"
      }
    },
    {
      "cell_type": "markdown",
      "source": [
        "![image.png](data:image/png;base64,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)"
      ],
      "metadata": {
        "id": "f5yi_UXI2PIY"
      }
    },
    {
      "cell_type": "markdown",
      "source": [],
      "metadata": {
        "id": "WTk8XCYE2SaY"
      }
    },
    {
      "cell_type": "code",
      "source": [
        "a = 0.5\n",
        "d = 0.2\n",
        "b = a+(d*12)**(1/2)\n",
        "print(f'Правая граница  величины В = {b: .3f}\\n'\n",
        "      f'Среднее значение В на промежутке ({a}; {b: .3f}) M(B) = {(b+0.5)/2: .3f}')"
      ],
      "metadata": {
        "colab": {
          "base_uri": "https://localhost:8080/"
        },
        "id": "UNgYv3aD53XH",
        "outputId": "f610257b-c3e6-4830-f58c-fe9cd57a8ba6"
      },
      "execution_count": null,
      "outputs": [
        {
          "output_type": "stream",
          "name": "stdout",
          "text": [
            "Правая граница  величины В =  2.049\n",
            "Среднее значение В на промежутке (0.5;  2.049) M(B) =  1.275\n"
          ]
        }
      ]
    },
    {
      "cell_type": "markdown",
      "source": [
        "Условие: Непрерывная случайная величина X распределена нормально и задана плотностью распределения f(x) = (1 / (4 * sqrt(2pi))) * exp((-(x+2)**2) / 32) Найдите: а. M(X) б. D(X) в. std(X) (среднее квадратичное отклонение)"
      ],
      "metadata": {
        "id": "EDX5W_Bw6OPO"
      }
    },
    {
      "cell_type": "markdown",
      "source": [
        "![image.png](data:image/png;base64,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)"
      ],
      "metadata": {
        "id": "KfyaZ94G4YFm"
      }
    },
    {
      "cell_type": "code",
      "source": [
        "print('M(x) = a = -2 \\n'\n",
        "      'std(x) = 4 \\n'\n",
        "      'D(x) = std(x)^2 = 16 \\n')"
      ],
      "metadata": {
        "colab": {
          "base_uri": "https://localhost:8080/"
        },
        "id": "j5nezZKx6TEV",
        "outputId": "ae4a5677-6c4d-4611-b503-b29057ad9623"
      },
      "execution_count": null,
      "outputs": [
        {
          "output_type": "stream",
          "name": "stdout",
          "text": [
            "M(x) = a = -2 \n",
            "std(x) = 4 \n",
            "D(x) = std(x)^2 = 16 \n",
            "\n"
          ]
        }
      ]
    },
    {
      "cell_type": "markdown",
      "source": [
        "Задача 4 Условие: Рост взрослого населения города X имеет нормальное распределение. Причем, средний рост равен 174 см, а среднее квадратичное отклонение равно 8 см. Какова вероятность того, что случайным образом выбранный взрослый человек имеет рост: а. больше 182 см б. больше 190 см в. от 166 см до 190 см г. от 166 см до 182 см д. от 158 см до 190 см е. не выше 150 см или не ниже 190 см ё. не выше 150 см или не ниже 198 см ж. ниже 166 см."
      ],
      "metadata": {
        "id": "pi4O-Bpl6svr"
      }
    },
    {
      "cell_type": "code",
      "source": [
        "from scipy.stats import norm\n",
        "from os import system\n",
        "system(\"cls\")"
      ],
      "metadata": {
        "colab": {
          "base_uri": "https://localhost:8080/"
        },
        "id": "rez23_p56sKe",
        "outputId": "291c0d5e-237d-44c6-a7a2-e327893704c3"
      },
      "execution_count": null,
      "outputs": [
        {
          "output_type": "execute_result",
          "data": {
            "text/plain": [
              "32512"
            ]
          },
          "metadata": {},
          "execution_count": 4
        }
      ]
    },
    {
      "cell_type": "code",
      "source": [
        "mu = 174\n",
        "sigma = 8\n",
        "\n",
        "a = 182\n",
        "pa = 1-norm.cdf(a, mu, sigma)\n",
        "print(f'>>> Вероятность роста больше {a} см = {pa: .4f}')\n",
        "\n",
        "b = 190\n",
        "pb = 1-norm.cdf(b, mu, sigma)\n",
        "print(f'>>> Вероятность роста больше {b} см = {pb: .4f}')\n",
        "\n",
        "v1, v2 = 166, 190\n",
        "pv = norm.cdf(v2, mu, sigma)-norm.cdf(v1, mu, sigma)\n",
        "print(f'>>> Вероятность роста от {v1} см до {v2} см = {pv: .4f}')\n",
        "\n",
        "g1, g2 = 166, 182\n",
        "pg = norm.cdf(g2, mu, sigma)-norm.cdf(g1, mu, sigma)\n",
        "print(f'>>> Вероятность роста от {g1} см до {g2} см = {pg: .4f}')\n",
        "\n",
        "d1, d2 = 158, 190\n",
        "pd = norm.cdf(d2, mu, sigma)-norm.cdf(d1, mu, sigma)\n",
        "print(f'>>> Вероятность роста от {d1} см до {d2} см = {pd: .4f}')\n",
        "\n",
        "e1, e2 = 150, 190\n",
        "pe = norm.cdf(e1, mu, sigma)+1-norm.cdf(e2, mu, sigma)\n",
        "print(f'>>> Вероятность роста не выше {e1} см или не ниже {e2} см = {pe: .4f}')\n",
        "\n",
        "yo1, yo2 = 150, 198\n",
        "pyo = norm.cdf(yo1, mu, sigma)+1-norm.cdf(yo2, mu, sigma)\n",
        "print(\n",
        "    f'>>> Вероятность роста не выше {yo1} см или не ниже {yo2} см = {pyo: .4f}')\n",
        "\n",
        "zh = 166\n",
        "pzh = norm.cdf(zh, mu, sigma)\n",
        "print(f'>>> Вероятность роста ниже {zh} см = {pzh: .4f}')"
      ],
      "metadata": {
        "colab": {
          "base_uri": "https://localhost:8080/"
        },
        "id": "VcuocvmM6v__",
        "outputId": "c2191b3a-6128-4919-a9dc-1eb4db0c64ae"
      },
      "execution_count": null,
      "outputs": [
        {
          "output_type": "stream",
          "name": "stdout",
          "text": [
            ">>> Вероятность роста больше 182 см =  0.1587\n",
            ">>> Вероятность роста больше 190 см =  0.0228\n",
            ">>> Вероятность роста от 166 см до 190 см =  0.8186\n",
            ">>> Вероятность роста от 166 см до 182 см =  0.6827\n",
            ">>> Вероятность роста от 158 см до 190 см =  0.9545\n",
            ">>> Вероятность роста не выше 150 см или не ниже 190 см =  0.0241\n",
            ">>> Вероятность роста не выше 150 см или не ниже 198 см =  0.0027\n",
            ">>> Вероятность роста ниже 166 см =  0.1587\n"
          ]
        }
      ]
    },
    {
      "cell_type": "markdown",
      "source": [
        "Задача 5 Условие: На сколько сигм (средних квадратичных отклонений) отклоняется рост человека, равный 190 см, от математического ожидания роста в популяции, в которой M(X) = 178 см и D(X) = 25 кв.см?"
      ],
      "metadata": {
        "id": "o0HNbZa4680K"
      }
    },
    {
      "cell_type": "code",
      "source": [
        "from math import sqrt\n",
        "from os import system\n",
        "system(\"cls\")"
      ],
      "metadata": {
        "id": "s6XPfRmR7AyU",
        "outputId": "4af32b9f-cd72-4420-cb1d-2ec31adeaacd",
        "colab": {
          "base_uri": "https://localhost:8080/"
        }
      },
      "execution_count": null,
      "outputs": [
        {
          "output_type": "execute_result",
          "data": {
            "text/plain": [
              "32512"
            ]
          },
          "metadata": {},
          "execution_count": 6
        }
      ]
    },
    {
      "cell_type": "code",
      "source": [
        "growth = 190\n",
        "mx = 178\n",
        "dx = 25\n",
        "std = sqrt(dx)\n",
        "sigma = (growth-mx)/std\n",
        "print(\n",
        "    f'Рост человека, равный {growth} см, отклоняется от математического ожидания роста в популяции на {sigma} сигм.')"
      ],
      "metadata": {
        "id": "QOaJTLGB7EGK",
        "outputId": "45b4bd24-d717-4cf7-959d-2f63a9776a34",
        "colab": {
          "base_uri": "https://localhost:8080/"
        }
      },
      "execution_count": null,
      "outputs": [
        {
          "output_type": "stream",
          "name": "stdout",
          "text": [
            "Рост человека, равный 190 см, отклоняется от математического ожидания роста в популяции на 2.4 сигм.\n"
          ]
        }
      ]
    }
  ]
}