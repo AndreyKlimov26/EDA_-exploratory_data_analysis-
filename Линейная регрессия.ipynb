{
 "cells": [
  {
   "cell_type": "code",
   "execution_count": 1,
   "metadata": {
    "executionInfo": {
     "elapsed": 3995,
     "status": "ok",
     "timestamp": 1704942736287,
     "user": {
      "displayName": "Андрей Климов",
      "userId": "14072956847951786681"
     },
     "user_tz": -180
    },
    "id": "RzRrJj1Yf_kl"
   },
   "outputs": [],
   "source": [
    "import numpy as np\n",
    "import scipy.stats as stats\n",
    "import matplotlib.pyplot as plt\n",
    "import statsmodels.api as sm\n",
    "import pandas as pd"
   ]
  },
  {
   "cell_type": "markdown",
   "metadata": {
    "id": "NaficM0EgL9K"
   },
   "source": [
    "Постройте графики для приведенных наборов данных. Найдите коэффициенты для линии\n",
    "регрессии и коэффициенты детерминации. Что вы замечаете? Нанесите на график модель\n",
    "линейной регрессии."
   ]
  },
  {
   "cell_type": "markdown",
   "metadata": {
    "id": "KE3ekUTEupBQ"
   },
   "source": [
    "### Первый набор данных ###"
   ]
  },
  {
   "cell_type": "code",
   "execution_count": 3,
   "metadata": {
    "executionInfo": {
     "elapsed": 327,
     "status": "ok",
     "timestamp": 1704942766231,
     "user": {
      "displayName": "Андрей Климов",
      "userId": "14072956847951786681"
     },
     "user_tz": -180
    },
    "id": "AawM3hu6gRKd"
   },
   "outputs": [],
   "source": [
    "X1= np.array([30,30,40, 40])\n",
    "Y1= np.array([37, 47, 50, 60])\n"
   ]
  },
  {
   "cell_type": "code",
   "execution_count": 4,
   "metadata": {
    "colab": {
     "base_uri": "https://localhost:8080/",
     "height": 449
    },
    "executionInfo": {
     "elapsed": 677,
     "status": "ok",
     "timestamp": 1704942806392,
     "user": {
      "displayName": "Андрей Климов",
      "userId": "14072956847951786681"
     },
     "user_tz": -180
    },
    "id": "RbO6oPPKgk4r",
    "outputId": "211d725b-56ef-45ee-a614-a0ef47d6e783"
   },
   "outputs": [
    {
     "data": {
      "image/png": "[encoded data removed]",
      "text/plain": [
       "<Figure size 640x480 with 1 Axes>"
      ]
     },
     "metadata": {},
     "output_type": "display_data"
    }
   ],
   "source": [
    "plt.scatter(X1, Y1)\n",
    "plt.xlabel('x')\n",
    "plt.ylabel('y')\n",
    "plt.show()"
   ]
  },
  {
   "cell_type": "code",
   "execution_count": 5,
   "metadata": {
    "colab": {
     "base_uri": "https://localhost:8080/"
    },
    "executionInfo": {
     "elapsed": 718,
     "status": "ok",
     "timestamp": 1704942860864,
     "user": {
      "displayName": "Андрей Климов",
      "userId": "14072956847951786681"
     },
     "user_tz": -180
    },
    "id": "9ZDUu1hKgtnD",
    "outputId": "9d04a165-2192-4da2-c96c-352aa6f3db95"
   },
   "outputs": [
    {
     "data": {
      "text/plain": [
       "48.5"
      ]
     },
     "execution_count": 5,
     "metadata": {},
     "output_type": "execute_result"
    }
   ],
   "source": [
    "Y1_mean = np.mean(Y1)\n",
    "Y1_mean"
   ]
  },
  {
   "cell_type": "code",
   "execution_count": 6,
   "metadata": {
    "colab": {
     "base_uri": "https://localhost:8080/"
    },
    "executionInfo": {
     "elapsed": 293,
     "status": "ok",
     "timestamp": 1704942895129,
     "user": {
      "displayName": "Андрей Климов",
      "userId": "14072956847951786681"
     },
     "user_tz": -180
    },
    "id": "DJ3-gc9rg438",
    "outputId": "eb2a4ecd-5ce6-41a3-c6a7-f5ad7290f35b"
   },
   "outputs": [
    {
     "data": {
      "text/plain": [
       "35.0"
      ]
     },
     "execution_count": 6,
     "metadata": {},
     "output_type": "execute_result"
    }
   ],
   "source": [
    "X1_mean = np.mean(X1)\n",
    "X1_mean"
   ]
  },
  {
   "cell_type": "code",
   "execution_count": 7,
   "metadata": {
    "colab": {
     "base_uri": "https://localhost:8080/"
    },
    "executionInfo": {
     "elapsed": 295,
     "status": "ok",
     "timestamp": 1704943085947,
     "user": {
      "displayName": "Андрей Климов",
      "userId": "14072956847951786681"
     },
     "user_tz": -180
    },
    "id": "7LTXqmLFhVjE",
    "outputId": "213c0fc2-c44f-4f00-d64b-4cbba82df2e0"
   },
   "outputs": [
    {
     "data": {
      "text/plain": [
       "1730.0"
      ]
     },
     "execution_count": 7,
     "metadata": {},
     "output_type": "execute_result"
    }
   ],
   "source": [
    "X1Y1_mean = (X1*Y1).mean()\n",
    "X1Y1_mean"
   ]
  },
  {
   "cell_type": "code",
   "execution_count": 8,
   "metadata": {
    "colab": {
     "base_uri": "https://localhost:8080/"
    },
    "executionInfo": {
     "elapsed": 291,
     "status": "ok",
     "timestamp": 1704943201072,
     "user": {
      "displayName": "Андрей Климов",
      "userId": "14072956847951786681"
     },
     "user_tz": -180
    },
    "id": "VxKne9lLh4cy",
    "outputId": "c401b3ff-5938-4cc9-ad9a-07d0465bcd67"
   },
   "outputs": [
    {
     "data": {
      "text/plain": [
       "1250.0"
      ]
     },
     "execution_count": 8,
     "metadata": {},
     "output_type": "execute_result"
    }
   ],
   "source": [
    "X1_sqrt_mean = (X1**2).mean()\n",
    "X1_sqrt_mean"
   ]
  },
  {
   "cell_type": "code",
   "execution_count": 10,
   "metadata": {
    "colab": {
     "base_uri": "https://localhost:8080/"
    },
    "executionInfo": {
     "elapsed": 281,
     "status": "ok",
     "timestamp": 1704943642115,
     "user": {
      "displayName": "Андрей Климов",
      "userId": "14072956847951786681"
     },
     "user_tz": -180
    },
    "id": "qEsHQmAEi2Kg",
    "outputId": "edbc1d1c-0a36-43c2-91dc-9da1845b6fdd"
   },
   "outputs": [
    {
     "data": {
      "text/plain": [
       "1.3"
      ]
     },
     "execution_count": 10,
     "metadata": {},
     "output_type": "execute_result"
    }
   ],
   "source": [
    "b1 = (X1Y1_mean -  X1_mean * Y1_mean)/(X1_sqrt_mean - X1_mean**2)\n",
    "b1"
   ]
  },
  {
   "cell_type": "code",
   "execution_count": 11,
   "metadata": {
    "colab": {
     "base_uri": "https://localhost:8080/"
    },
    "executionInfo": {
     "elapsed": 317,
     "status": "ok",
     "timestamp": 1704943695931,
     "user": {
      "displayName": "Андрей Климов",
      "userId": "14072956847951786681"
     },
     "user_tz": -180
    },
    "id": "qW6QhT0hinQf",
    "outputId": "40167e41-7573-46ab-d50f-06a49d215c16"
   },
   "outputs": [
    {
     "data": {
      "text/plain": [
       "3.0"
      ]
     },
     "execution_count": 11,
     "metadata": {},
     "output_type": "execute_result"
    }
   ],
   "source": [
    "b0 = Y1_mean - b1 * X1_mean # нулёвый коеффициент сдвига\n",
    "b0"
   ]
  },
  {
   "cell_type": "code",
   "execution_count": 13,
   "metadata": {
    "colab": {
     "base_uri": "https://localhost:8080/"
    },
    "executionInfo": {
     "elapsed": 276,
     "status": "ok",
     "timestamp": 1704943863575,
     "user": {
      "displayName": "Андрей Климов",
      "userId": "14072956847951786681"
     },
     "user_tz": -180
    },
    "id": "U3RA4tyikWCm",
    "outputId": "c3587703-647c-49bf-d3e9-8d9dc8de7200"
   },
   "outputs": [
    {
     "data": {
      "text/plain": [
       "0.7926239891046001"
      ]
     },
     "execution_count": 13,
     "metadata": {},
     "output_type": "execute_result"
    }
   ],
   "source": [
    "r = np.corrcoef(X1,Y1)[1,0] # коэффициент корреляции\n",
    "r"
   ]
  },
  {
   "cell_type": "code",
   "execution_count": 15,
   "metadata": {
    "colab": {
     "base_uri": "https://localhost:8080/"
    },
    "executionInfo": {
     "elapsed": 315,
     "status": "ok",
     "timestamp": 1704944206153,
     "user": {
      "displayName": "Андрей Климов",
      "userId": "14072956847951786681"
     },
     "user_tz": -180
    },
    "id": "6N7leTAUkcKO",
    "outputId": "fea3cdb9-230c-4bfd-e8ab-0c33cf66a5f9"
   },
   "outputs": [
    {
     "data": {
      "text/plain": [
       "0.6282527881040891"
      ]
     },
     "execution_count": 15,
     "metadata": {},
     "output_type": "execute_result"
    }
   ],
   "source": [
    "r2 = r**2 # коэффициент детерминации\n",
    "r2"
   ]
  },
  {
   "cell_type": "code",
   "execution_count": 16,
   "metadata": {
    "colab": {
     "base_uri": "https://localhost:8080/"
    },
    "executionInfo": {
     "elapsed": 293,
     "status": "ok",
     "timestamp": 1704945085675,
     "user": {
      "displayName": "Андрей Климов",
      "userId": "14072956847951786681"
     },
     "user_tz": -180
    },
    "id": "-lD1FYuipIa4",
    "outputId": "a715a21d-f727-42d2-cb13-dbce803416fe"
   },
   "outputs": [
    {
     "data": {
      "text/plain": [
       "array([42., 42., 55., 55.])"
      ]
     },
     "execution_count": 16,
     "metadata": {},
     "output_type": "execute_result"
    }
   ],
   "source": [
    "Y1_pred = X1 * b1 + b0\n",
    "Y1_pred"
   ]
  },
  {
   "cell_type": "code",
   "execution_count": 17,
   "metadata": {
    "colab": {
     "base_uri": "https://localhost:8080/",
     "height": 449
    },
    "executionInfo": {
     "elapsed": 363,
     "status": "ok",
     "timestamp": 1704945331137,
     "user": {
      "displayName": "Андрей Климов",
      "userId": "14072956847951786681"
     },
     "user_tz": -180
    },
    "id": "7gveaeVKp8_-",
    "outputId": "c6307e28-fbd9-4856-eea4-918d21b03d58"
   },
   "outputs": [
    {
     "data": {
      "image/png": "[encoded data removed]",
      "text/plain": [
       "<Figure size 640x480 with 1 Axes>"
      ]
     },
     "metadata": {},
     "output_type": "display_data"
    }
   ],
   "source": [
    "plt.scatter(X1, Y1)\n",
    "plt.plot(X1, Y1_pred)\n",
    "plt.xlabel('x')\n",
    "plt.ylabel('y')\n",
    "plt.show()"
   ]
  },
  {
   "cell_type": "code",
   "execution_count": 18,
   "metadata": {
    "colab": {
     "base_uri": "https://localhost:8080/"
    },
    "executionInfo": {
     "elapsed": 11,
     "status": "ok",
     "timestamp": 1704945474679,
     "user": {
      "displayName": "Андрей Климов",
      "userId": "14072956847951786681"
     },
     "user_tz": -180
    },
    "id": "a3t0xcTBqpvw",
    "outputId": "52164d37-2c1b-4052-ff38-90feeee2a2b1"
   },
   "outputs": [
    {
     "data": {
      "text/plain": [
       "array([-5.,  5., -5.,  5.])"
      ]
     },
     "execution_count": 18,
     "metadata": {},
     "output_type": "execute_result"
    }
   ],
   "source": [
    "error = Y1 - Y1_pred # вектор ошибок\n",
    "error"
   ]
  },
  {
   "cell_type": "code",
   "execution_count": 23,
   "metadata": {
    "colab": {
     "base_uri": "https://localhost:8080/"
    },
    "executionInfo": {
     "elapsed": 634,
     "status": "ok",
     "timestamp": 1704946117905,
     "user": {
      "displayName": "Андрей Климов",
      "userId": "14072956847951786681"
     },
     "user_tz": -180
    },
    "id": "eARwYriErO-F",
    "outputId": "14ee1168-fe79-4f49-ac70-28e80688b40c"
   },
   "outputs": [
    {
     "data": {
      "text/plain": [
       "100.0"
      ]
     },
     "execution_count": 23,
     "metadata": {},
     "output_type": "execute_result"
    }
   ],
   "source": [
    "SSE = sum(error**2) # сумма квадратов ошибок\n",
    "SSE"
   ]
  },
  {
   "cell_type": "code",
   "execution_count": 24,
   "metadata": {
    "colab": {
     "base_uri": "https://localhost:8080/"
    },
    "executionInfo": {
     "elapsed": 7,
     "status": "ok",
     "timestamp": 1704946119302,
     "user": {
      "displayName": "Андрей Климов",
      "userId": "14072956847951786681"
     },
     "user_tz": -180
    },
    "id": "Zdy4BOlPr7gl",
    "outputId": "da6e41a6-c1e3-4731-a2b3-470ee7f6f709"
   },
   "outputs": [
    {
     "data": {
      "text/plain": [
       "269.0"
      ]
     },
     "execution_count": 24,
     "metadata": {},
     "output_type": "execute_result"
    }
   ],
   "source": [
    "SST = sum((Y1 - Y1_mean)**2)\n",
    "SST"
   ]
  },
  {
   "cell_type": "code",
   "execution_count": 25,
   "metadata": {
    "colab": {
     "base_uri": "https://localhost:8080/"
    },
    "executionInfo": {
     "elapsed": 280,
     "status": "ok",
     "timestamp": 1704946121497,
     "user": {
      "displayName": "Андрей Климов",
      "userId": "14072956847951786681"
     },
     "user_tz": -180
    },
    "id": "1cPtfH9CtLXE",
    "outputId": "aa18115c-d437-435d-98b2-6035dec453b3"
   },
   "outputs": [
    {
     "data": {
      "text/plain": [
       "0.6282527881040892"
      ]
     },
     "execution_count": 25,
     "metadata": {},
     "output_type": "execute_result"
    }
   ],
   "source": [
    "R2 = 1 - SSE/SST\n",
    "R2"
   ]
  },
  {
   "cell_type": "markdown",
   "metadata": {
    "id": "79mZlUc0uu0a"
   },
   "source": [
    "### Второй набор данных"
   ]
  },
  {
   "cell_type": "code",
   "execution_count": 31,
   "metadata": {
    "executionInfo": {
     "elapsed": 302,
     "status": "ok",
     "timestamp": 1704947032023,
     "user": {
      "displayName": "Андрей Климов",
      "userId": "14072956847951786681"
     },
     "user_tz": -180
    },
    "id": "_zYhzOXfvTCq"
   },
   "outputs": [],
   "source": [
    "from sklearn.linear_model import LinearRegression"
   ]
  },
  {
   "cell_type": "code",
   "execution_count": 32,
   "metadata": {
    "executionInfo": {
     "elapsed": 7,
     "status": "ok",
     "timestamp": 1704947033078,
     "user": {
      "displayName": "Андрей Климов",
      "userId": "14072956847951786681"
     },
     "user_tz": -180
    },
    "id": "PjB35uE6uj7g"
   },
   "outputs": [],
   "source": [
    "x2= np.array([30,30,40, 40, 20, 20, 50, 50])\n",
    "y2= np.array([37, 47, 50, 60, 25, 35, 62, 72])"
   ]
  },
  {
   "cell_type": "code",
   "execution_count": 27,
   "metadata": {
    "executionInfo": {
     "elapsed": 317,
     "status": "ok",
     "timestamp": 1704946875488,
     "user": {
      "displayName": "Андрей Климов",
      "userId": "14072956847951786681"
     },
     "user_tz": -180
    },
    "id": "9DlqWvJ6v9Tu"
   },
   "outputs": [],
   "source": [
    "model = LinearRegression()"
   ]
  },
  {
   "cell_type": "code",
   "execution_count": 40,
   "metadata": {
    "colab": {
     "base_uri": "https://localhost:8080/"
    },
    "executionInfo": {
     "elapsed": 336,
     "status": "ok",
     "timestamp": 1704947660472,
     "user": {
      "displayName": "Андрей Климов",
      "userId": "14072956847951786681"
     },
     "user_tz": -180
    },
    "id": "a0V78v0RwQZW",
    "outputId": "6cc114ba-f7a0-4156-c178-d23ae447e411"
   },
   "outputs": [
    {
     "data": {
      "text/plain": [
       "array([[30],\n",
       "       [30],\n",
       "       [40],\n",
       "       [40],\n",
       "       [20],\n",
       "       [20],\n",
       "       [50],\n",
       "       [50]])"
      ]
     },
     "execution_count": 40,
     "metadata": {},
     "output_type": "execute_result"
    }
   ],
   "source": [
    "x2 = x2.reshape(-1,1)\n",
    "x2"
   ]
  },
  {
   "cell_type": "code",
   "execution_count": 41,
   "metadata": {
    "executionInfo": {
     "elapsed": 500,
     "status": "ok",
     "timestamp": 1704947663043,
     "user": {
      "displayName": "Андрей Климов",
      "userId": "14072956847951786681"
     },
     "user_tz": -180
    },
    "id": "LovgyZ51yJ-f"
   },
   "outputs": [],
   "source": [
    "regres = model.fit(x2, y2)"
   ]
  },
  {
   "cell_type": "code",
   "execution_count": 44,
   "metadata": {
    "colab": {
     "base_uri": "https://localhost:8080/"
    },
    "executionInfo": {
     "elapsed": 286,
     "status": "ok",
     "timestamp": 1704948255983,
     "user": {
      "displayName": "Андрей Климов",
      "userId": "14072956847951786681"
     },
     "user_tz": -180
    },
    "id": "q2WH5GNq1TP5",
    "outputId": "b0b68842-d7c0-4e18-b3c8-d042682fc3b3"
   },
   "outputs": [
    {
     "data": {
      "text/plain": [
       "0.8846950517836594"
      ]
     },
     "execution_count": 44,
     "metadata": {},
     "output_type": "execute_result"
    }
   ],
   "source": [
    "r_sq = model.score(x2, y2)\n",
    "r_sq"
   ]
  },
  {
   "cell_type": "code",
   "execution_count": 42,
   "metadata": {
    "colab": {
     "base_uri": "https://localhost:8080/"
    },
    "executionInfo": {
     "elapsed": 715,
     "status": "ok",
     "timestamp": 1704947877959,
     "user": {
      "displayName": "Андрей Климов",
      "userId": "14072956847951786681"
     },
     "user_tz": -180
    },
    "id": "jiguFdd0z2Ea",
    "outputId": "e50d3472-c66b-43e1-9bb3-4cbba431fd81"
   },
   "outputs": [
    {
     "name": "stdout",
     "output_type": "stream",
     "text": [
      "5.1000000000000085\n"
     ]
    }
   ],
   "source": [
    "print(regres.intercept_) #вывводим интерсепт"
   ]
  },
  {
   "cell_type": "code",
   "execution_count": 43,
   "metadata": {
    "colab": {
     "base_uri": "https://localhost:8080/"
    },
    "executionInfo": {
     "elapsed": 334,
     "status": "ok",
     "timestamp": 1704947918641,
     "user": {
      "displayName": "Андрей Климов",
      "userId": "14072956847951786681"
     },
     "user_tz": -180
    },
    "id": "QIkyViTO0GAh",
    "outputId": "abdc162f-1f0d-4979-f935-b43998ab6dad"
   },
   "outputs": [
    {
     "name": "stdout",
     "output_type": "stream",
     "text": [
      "[1.24]\n"
     ]
    }
   ],
   "source": [
    "print(regres.coef_)"
   ]
  },
  {
   "cell_type": "code",
   "execution_count": 45,
   "metadata": {
    "colab": {
     "base_uri": "https://localhost:8080/"
    },
    "executionInfo": {
     "elapsed": 9,
     "status": "ok",
     "timestamp": 1704948319601,
     "user": {
      "displayName": "Андрей Климов",
      "userId": "14072956847951786681"
     },
     "user_tz": -180
    },
    "id": "rK11eIdE1imO",
    "outputId": "c115c5bb-216c-4ac4-88a8-6c64cf07a6b6"
   },
   "outputs": [
    {
     "data": {
      "text/plain": [
       "array([42.3, 42.3, 54.7, 54.7, 29.9, 29.9, 67.1, 67.1])"
      ]
     },
     "execution_count": 45,
     "metadata": {},
     "output_type": "execute_result"
    }
   ],
   "source": [
    "y2_pred = model.predict(x2)\n",
    "y2_pred"
   ]
  },
  {
   "cell_type": "code",
   "execution_count": 46,
   "metadata": {
    "colab": {
     "base_uri": "https://localhost:8080/",
     "height": 449
    },
    "executionInfo": {
     "elapsed": 959,
     "status": "ok",
     "timestamp": 1704948393368,
     "user": {
      "displayName": "Андрей Климов",
      "userId": "14072956847951786681"
     },
     "user_tz": -180
    },
    "id": "KVnwPa_31255",
    "outputId": "cc92d2b7-7a09-4325-ea96-8c2c81defa24"
   },
   "outputs": [
    {
     "data": {
      "image/png": "[encoded data removed]",
      "text/plain": [
       "<Figure size 640x480 with 1 Axes>"
      ]
     },
     "metadata": {},
     "output_type": "display_data"
    }
   ],
   "source": [
    "plt.scatter(x2, y2)\n",
    "plt.plot(x2, y2_pred)\n",
    "plt.xlabel('x')\n",
    "plt.ylabel('y')\n",
    "plt.show()"
   ]
  },
  {
   "cell_type": "markdown",
   "metadata": {
    "id": "T6jxV55k2SlN"
   },
   "source": [
    "### Третий набор данных ###"
   ]
  },
  {
   "cell_type": "code",
   "execution_count": 66,
   "metadata": {
    "executionInfo": {
     "elapsed": 10,
     "status": "ok",
     "timestamp": 1704948866550,
     "user": {
      "displayName": "Андрей Климов",
      "userId": "14072956847951786681"
     },
     "user_tz": -180
    },
    "id": "8CcpRp8b2at3"
   },
   "outputs": [],
   "source": [
    "x3 = np.array([30,30,40, 40, 20, 20, 50, 50, 10, 10, 60, 60])\n",
    "y3 = np.array([37, 47, 50, 60, 25, 35, 62, 72, 13, 23, 74, 84])"
   ]
  },
  {
   "cell_type": "code",
   "execution_count": 67,
   "metadata": {
    "executionInfo": {
     "elapsed": 449,
     "status": "ok",
     "timestamp": 1704948868209,
     "user": {
      "displayName": "Андрей Климов",
      "userId": "14072956847951786681"
     },
     "user_tz": -180
    },
    "id": "a9gpUYpQ3wKd"
   },
   "outputs": [],
   "source": [
    "model = LinearRegression()"
   ]
  },
  {
   "cell_type": "code",
   "execution_count": 68,
   "metadata": {
    "colab": {
     "base_uri": "https://localhost:8080/"
    },
    "executionInfo": {
     "elapsed": 7,
     "status": "ok",
     "timestamp": 1704948868905,
     "user": {
      "displayName": "Андрей Климов",
      "userId": "14072956847951786681"
     },
     "user_tz": -180
    },
    "id": "TFdmvBge2fpF",
    "outputId": "a9c37f25-322e-4376-9372-b5548c548e2b"
   },
   "outputs": [
    {
     "data": {
      "text/plain": [
       "array([[30],\n",
       "       [30],\n",
       "       [40],\n",
       "       [40],\n",
       "       [20],\n",
       "       [20],\n",
       "       [50],\n",
       "       [50],\n",
       "       [10],\n",
       "       [10],\n",
       "       [60],\n",
       "       [60]])"
      ]
     },
     "execution_count": 68,
     "metadata": {},
     "output_type": "execute_result"
    }
   ],
   "source": [
    "x3 = x3.reshape(-1,1)\n",
    "x3"
   ]
  },
  {
   "cell_type": "code",
   "execution_count": 69,
   "metadata": {
    "executionInfo": {
     "elapsed": 339,
     "status": "ok",
     "timestamp": 1704948871658,
     "user": {
      "displayName": "Андрей Климов",
      "userId": "14072956847951786681"
     },
     "user_tz": -180
    },
    "id": "cMiLTyii2oxv"
   },
   "outputs": [],
   "source": [
    "regres = model.fit(x3, y3)"
   ]
  },
  {
   "cell_type": "code",
   "execution_count": 70,
   "metadata": {
    "colab": {
     "base_uri": "https://localhost:8080/"
    },
    "executionInfo": {
     "elapsed": 11,
     "status": "ok",
     "timestamp": 1704948873849,
     "user": {
      "displayName": "Андрей Климов",
      "userId": "14072956847951786681"
     },
     "user_tz": -180
    },
    "id": "Y4gNsvXG2sg9",
    "outputId": "3311deea-7938-4b3c-8245-f69c9f283367"
   },
   "outputs": [
    {
     "data": {
      "text/plain": [
       "0.9459101071621309"
      ]
     },
     "execution_count": 70,
     "metadata": {},
     "output_type": "execute_result"
    }
   ],
   "source": [
    "r_sq = model.score(x3, y3)\n",
    "r_sq"
   ]
  },
  {
   "cell_type": "code",
   "execution_count": 72,
   "metadata": {
    "colab": {
     "base_uri": "https://localhost:8080/"
    },
    "executionInfo": {
     "elapsed": 292,
     "status": "ok",
     "timestamp": 1704948878963,
     "user": {
      "displayName": "Андрей Климов",
      "userId": "14072956847951786681"
     },
     "user_tz": -180
    },
    "id": "smwn0wf33ARN",
    "outputId": "e8d77f7c-7c32-4d20-9b2f-76acc0204f9a"
   },
   "outputs": [
    {
     "name": "stdout",
     "output_type": "stream",
     "text": [
      "5.600000000000016\n"
     ]
    }
   ],
   "source": [
    "print(regres.intercept_) #вывводим интерсепт"
   ]
  },
  {
   "cell_type": "code",
   "execution_count": 71,
   "metadata": {
    "colab": {
     "base_uri": "https://localhost:8080/"
    },
    "executionInfo": {
     "elapsed": 589,
     "status": "ok",
     "timestamp": 1704948876865,
     "user": {
      "displayName": "Андрей Климов",
      "userId": "14072956847951786681"
     },
     "user_tz": -180
    },
    "id": "ZRmJQd4L3ERM",
    "outputId": "be8f5d2c-8987-4370-e5d9-ba91e7de8783"
   },
   "outputs": [
    {
     "name": "stdout",
     "output_type": "stream",
     "text": [
      "[1.22571429]\n"
     ]
    }
   ],
   "source": [
    "print(regres.coef_)"
   ]
  },
  {
   "cell_type": "code",
   "execution_count": 73,
   "metadata": {
    "colab": {
     "base_uri": "https://localhost:8080/"
    },
    "executionInfo": {
     "elapsed": 443,
     "status": "ok",
     "timestamp": 1704948882007,
     "user": {
      "displayName": "Андрей Климов",
      "userId": "14072956847951786681"
     },
     "user_tz": -180
    },
    "id": "S0Mx3Aif3H1t",
    "outputId": "b793e518-4eb6-4cb2-e568-ead41569b4ac"
   },
   "outputs": [
    {
     "data": {
      "text/plain": [
       "array([42.37142857, 42.37142857, 54.62857143, 54.62857143, 30.11428571,\n",
       "       30.11428571, 66.88571429, 66.88571429, 17.85714286, 17.85714286,\n",
       "       79.14285714, 79.14285714])"
      ]
     },
     "execution_count": 73,
     "metadata": {},
     "output_type": "execute_result"
    }
   ],
   "source": [
    "y3_pred = model.predict(x3)\n",
    "y3_pred"
   ]
  },
  {
   "cell_type": "code",
   "execution_count": 74,
   "metadata": {
    "colab": {
     "base_uri": "https://localhost:8080/",
     "height": 449
    },
    "executionInfo": {
     "elapsed": 362,
     "status": "ok",
     "timestamp": 1704948884742,
     "user": {
      "displayName": "Андрей Климов",
      "userId": "14072956847951786681"
     },
     "user_tz": -180
    },
    "id": "qwCzdR4I3Nwp",
    "outputId": "5ddcf0be-ebb7-4519-c20c-6029a0758c5f"
   },
   "outputs": [
    {
     "data": {
      "image/png": "[encoded data removed]",
      "text/plain": [
       "<Figure size 640x480 with 1 Axes>"
      ]
     },
     "metadata": {},
     "output_type": "display_data"
    }
   ],
   "source": [
    "plt.scatter(x3, y3)\n",
    "plt.plot(x3, y3_pred)\n",
    "plt.xlabel('x')\n",
    "plt.ylabel('y')\n",
    "plt.show()"
   ]
  }
 ],
 "metadata": {
  "colab": {
   "authorship_tag": "ABX9TyMXU9PT3DiBFFJG1beh/Wui",
   "provenance": []
  },
  "kernelspec": {
   "display_name": "Python 3",
   "name": "python3"
  },
  "language_info": {
   "name": "python"
  }
 },
 "nbformat": 4,
 "nbformat_minor": 0
}
